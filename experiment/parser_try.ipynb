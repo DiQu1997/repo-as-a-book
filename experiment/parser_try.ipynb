{
 "cells": [
  {
   "cell_type": "code",
   "execution_count": 1,
   "metadata": {},
   "outputs": [],
   "source": [
    "import sys\n",
    "from pathlib import Path\n",
    "from pprint import pprint\n",
    "from datetime import datetime\n",
    "\n",
    "# Setup path\n",
    "notebook_dir = Path().absolute()\n",
    "project_root = notebook_dir.parent\n",
    "sys.path.append(str(project_root))\n",
    "from parser_engine.parser_engine.language_parsers.python_parser import PythonParser"
   ]
  },
  {
   "cell_type": "code",
   "execution_count": 3,
   "metadata": {},
   "outputs": [
    {
     "name": "stdout",
     "output_type": "stream",
     "text": [
      "Module: language_parsers.python_parser\n",
      "Language: Python\n",
      "\n",
      "Imports:\n",
      "  ast\n",
      "  Path\n",
      "  List\n",
      "  Optional\n",
      "  Dict\n",
      "  Any\n",
      "  Union\n",
      "  dataclass\n",
      "  BaseParser\n",
      "  ModuleElement\n",
      "  ClassElement\n",
      "  FunctionElement\n",
      "  DocumentationElement\n",
      "\n",
      "Classes:\n",
      "\n",
      "language_parsers.python_parser.ContextInfo:\n",
      "  Documentation: Helper class to track parsing context.\n",
      "  Methods: []\n",
      "  Attributes: {}\n",
      "\n",
      "language_parsers.python_parser.PythonParser:\n",
      "  Documentation: Parser for Python source code files.\n",
      "  Methods: ['language_parsers.python_parser.PythonParser.__init__(self: Any) -> Any', 'language_parsers.python_parser.PythonParser.can_parse(self: Any, path: Path) -> bool', 'language_parsers.python_parser.PythonParser.get_supported_extensions(self: Any) -> List[str]', 'language_parsers.python_parser.PythonParser.parse_file(self: Any, path: Path, package_name: Any) -> ModuleElement', 'language_parsers.python_parser.PythonParser._parse_class(self: Any, path: Path, node: ast.ClassDef, context: ContextInfo, parent_name: str) -> ClassElement', 'language_parsers.python_parser.PythonParser._parse_decorators(self: Any, node: Union[ast.ClassDef, ast.FunctionDef, ast.AsyncFunctionDef]) -> List[str]', 'language_parsers.python_parser.PythonParser._get_decorator_name(self: Any, node: Union[ast.Name, ast.Attribute]) -> str', 'language_parsers.python_parser.PythonParser._parse_function(self: Any, path: Path, node: Union[ast.FunctionDef, ast.AsyncFunctionDef], context: ContextInfo, parent_name: str) -> FunctionElement', 'language_parsers.python_parser.PythonParser._parse_imports(self: Any, node: Union[ast.Import, ast.ImportFrom]) -> Dict[str, str]', 'language_parsers.python_parser.PythonParser._parse_docstring(self: Any, node: ast.AST) -> Optional[DocumentationElement]', 'language_parsers.python_parser.PythonParser._calculate_complexity(self: Any, node: ast.AST) -> int', 'language_parsers.python_parser.PythonParser._get_annotation_type(self: Any, node: Optional[ast.AST]) -> str', 'language_parsers.python_parser.PythonParser._get_attribute_type(self: Any, node: ast.AST) -> str', 'language_parsers.python_parser.PythonParser._get_name(self: Any, node: ast.AST) -> str']\n",
      "  Attributes: {'language': 'str'}\n"
     ]
    }
   ],
   "source": [
    "# Create parser instance\n",
    "parser = PythonParser()\n",
    "\n",
    "# Parse the python_parser.py file\n",
    "python_parser_path = project_root / \"parser_engine\" / \"parser_engine\" / \"language_parsers\" / \"python_parser.py\"\n",
    "module = parser.parse_file(python_parser_path)\n",
    "\n",
    "# Print the parsed information\n",
    "print(f\"Module: {module.name}\")\n",
    "print(f\"Language: {module.language}\")\n",
    "print(\"\\nImports:\")\n",
    "for imp in module.imports:\n",
    "    print(f\"  {imp}\")\n",
    "\n",
    "print(\"\\nClasses:\")\n",
    "for cls in module.classes:\n",
    "    print(f\"\\n{cls.name}:\")\n",
    "    print(f\"  Documentation: {cls.documentation.content if cls.documentation else 'None'}\")\n",
    "    print(f\"  Methods: {[m.name for m in cls.methods]}\")\n",
    "    print(f\"  Attributes: {cls.attributes}\")\n"
   ]
  },
  {
   "cell_type": "code",
   "execution_count": 5,
   "metadata": {},
   "outputs": [
    {
     "data": {
      "text/plain": [
       "[]"
      ]
     },
     "execution_count": 5,
     "metadata": {},
     "output_type": "execute_result"
    }
   ],
   "source": [
    "# Get a body of a relative long function's body\n",
    "module.functions\n"
   ]
  },
  {
   "cell_type": "markdown",
   "metadata": {},
   "source": []
  }
 ],
 "metadata": {
  "kernelspec": {
   "display_name": "Python 3",
   "language": "python",
   "name": "python3"
  },
  "language_info": {
   "codemirror_mode": {
    "name": "ipython",
    "version": 3
   },
   "file_extension": ".py",
   "mimetype": "text/x-python",
   "name": "python",
   "nbconvert_exporter": "python",
   "pygments_lexer": "ipython3",
   "version": "3.9.6"
  }
 },
 "nbformat": 4,
 "nbformat_minor": 2
}
