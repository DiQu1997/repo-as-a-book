{
 "cells": [
  {
   "cell_type": "code",
   "execution_count": 1,
   "metadata": {},
   "outputs": [],
   "source": [
    "import sys\n",
    "from pathlib import Path\n",
    "from pprint import pprint\n",
    "from datetime import datetime\n",
    "\n",
    "# Setup path\n",
    "notebook_dir = Path().absolute()\n",
    "project_root = notebook_dir.parent\n",
    "sys.path.append(str(project_root))\n",
    "from parser_engine.parser_engine.language_parsers.python_parser import PythonParser"
   ]
  },
  {
   "cell_type": "code",
   "execution_count": null,
   "metadata": {},
   "outputs": [],
   "source": []
  },
  {
   "cell_type": "code",
   "execution_count": 2,
   "metadata": {},
   "outputs": [
    {
     "name": "stdout",
     "output_type": "stream",
     "text": [
      "Module: python_parser\n",
      "Language: Python\n",
      "\n",
      "Imports:\n",
      "  ast\n",
      "  from pathlib import Path\n",
      "  from typing import List\n",
      "  from typing import Optional\n",
      "  from typing import Dict\n",
      "  from typing import Any\n",
      "  from typing import Union\n",
      "  from dataclasses import dataclass\n",
      "  from base_parser import BaseParser\n",
      "  from models.data_models import ModuleElement\n",
      "  from models.data_models import ClassElement\n",
      "  from models.data_models import FunctionElement\n",
      "  from models.data_models import DocumentationElement\n",
      "\n",
      "Classes:\n",
      "\n",
      "ContextInfo:\n",
      "  Documentation: Helper class to track parsing context.\n",
      "  Methods: []\n",
      "  Attributes: {}\n",
      "\n",
      "PythonParser:\n",
      "  Documentation: Parser for Python source code files.\n",
      "  Methods: ['__init__', 'can_parse', 'get_supported_extensions', 'parse_file', '_parse_class', '_parse_decorators', '_get_decorator_name', '_parse_function', '_parse_imports', '_parse_docstring', '_calculate_complexity', '_get_annotation_type', '_get_attribute_type', '_get_name']\n",
      "  Attributes: {'language': 'str'}\n"
     ]
    }
   ],
   "source": [
    "# Create parser instance\n",
    "parser = PythonParser()\n",
    "\n",
    "# Parse the python_parser.py file\n",
    "python_parser_path = project_root / \"parser_engine\" / \"parser_engine\" / \"language_parsers\" / \"python_parser.py\"\n",
    "module = parser.parse_file(python_parser_path)\n",
    "\n",
    "# Print the parsed information\n",
    "print(f\"Module: {module.name}\")\n",
    "print(f\"Language: {module.language}\")\n",
    "print(\"\\nImports:\")\n",
    "for imp in module.imports:\n",
    "    print(f\"  {imp}\")\n",
    "\n",
    "print(\"\\nClasses:\")\n",
    "for cls in module.classes:\n",
    "    print(f\"\\n{cls.name}:\")\n",
    "    print(f\"  Documentation: {cls.documentation.content if cls.documentation else 'None'}\")\n",
    "    print(f\"  Methods: {[m.name for m in cls.methods]}\")\n",
    "    print(f\"  Attributes: {cls.attributes}\")\n"
   ]
  },
  {
   "cell_type": "markdown",
   "metadata": {},
   "source": []
  }
 ],
 "metadata": {
  "kernelspec": {
   "display_name": "Python 3",
   "language": "python",
   "name": "python3"
  },
  "language_info": {
   "codemirror_mode": {
    "name": "ipython",
    "version": 3
   },
   "file_extension": ".py",
   "mimetype": "text/x-python",
   "name": "python",
   "nbconvert_exporter": "python",
   "pygments_lexer": "ipython3",
   "version": "3.9.6"
  }
 },
 "nbformat": 4,
 "nbformat_minor": 2
}
