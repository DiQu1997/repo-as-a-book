{
 "cells": [
  {
   "cell_type": "code",
   "execution_count": 2,
   "metadata": {},
   "outputs": [
    {
     "name": "stdout",
     "output_type": "stream",
     "text": [
      "Found class\n",
      "Found class\n",
      "ModuleElement(name='python_parser.py', path=PosixPath('python_parser.py'), language='Python', classes=[ClassElement(name='python_parser.py:ContextInfo()', path=PosixPath('python_parser.py'), start_line=16, end_line=21, module=..., documentation=DocumentationElement(content='Helper class to track parsing context.', path='16', line_number=16, type='docstring', context=None), methods=[], base_classes=[], attributes={}, decorators=['@dataclass'], inner_classes=[]), ClassElement(name='python_parser.py:PythonParser(BaseParser)', path=PosixPath('python_parser.py'), start_line=23, end_line=315, module=..., documentation=DocumentationElement(content='Parser for Python source code files.', path='23', line_number=23, type='docstring', context=None), methods=[FunctionElement(name='python_parser.py:PythonParser(BaseParser):__init__(self: Any) -> Any', path=PosixPath('python_parser.py'), start_line=28, end_line=29, module=..., documentation=None, parameters=['self: Any'], return_type='Any', decorators=[], complexity=1, is_async=False), FunctionElement(name='python_parser.py:PythonParser(BaseParser):can_parse(self: Any, path: Path) -> bool', path=PosixPath('python_parser.py'), start_line=31, end_line=33, module=..., documentation=DocumentationElement(content='Check if file is a Python file.', path='31', line_number=31, type='docstring', context=None), parameters=['self: Any', 'path: Path'], return_type='bool', decorators=[], complexity=1, is_async=False), FunctionElement(name='python_parser.py:PythonParser(BaseParser):get_supported_extensions(self: Any) -> List[str]', path=PosixPath('python_parser.py'), start_line=35, end_line=37, module=..., documentation=DocumentationElement(content='Get supported Python file extensions.', path='35', line_number=35, type='docstring', context=None), parameters=['self: Any'], return_type='List[str]', decorators=[], complexity=1, is_async=False), FunctionElement(name='python_parser.py:PythonParser(BaseParser):parse_file(self: Any, path: Path) -> ModuleElement', path=PosixPath('python_parser.py'), start_line=39, end_line=86, module=..., documentation=DocumentationElement(content='Parse a Python source file.\\n\\nArgs:\\n    path: Path to the Python file\\n    \\nReturns:\\n    ModuleElement containing the parsed information', path='39', line_number=39, type='docstring', context=None), parameters=['self: Any', 'path: Path'], return_type='ModuleElement', decorators=[], complexity=7, is_async=False), FunctionElement(name='python_parser.py:PythonParser(BaseParser):_parse_class(self: Any, path: Path, node: ast.ClassDef, context: ContextInfo, parent_name: str) -> ClassElement', path=PosixPath('python_parser.py'), start_line=88, end_line=133, module=..., documentation=DocumentationElement(content='Parse a class definition.', path='88', line_number=88, type='docstring', context=None), parameters=['self: Any', 'path: Path', 'node: ast.ClassDef', 'context: ContextInfo', 'parent_name: str'], return_type='ClassElement', decorators=[], complexity=7, is_async=False), FunctionElement(name='python_parser.py:PythonParser(BaseParser):_parse_decorators(self: Any, node: Union[ast.ClassDef, ast.FunctionDef, ast.AsyncFunctionDef]) -> List[str]', path=PosixPath('python_parser.py'), start_line=135, end_line=187, module=..., documentation=DocumentationElement(content='Parse decorators from a class or function node.\\n\\nArgs:\\n    node: AST node for class or function\\n    \\nReturns:\\n    List of decorator strings', path='135', line_number=135, type='docstring', context=None), parameters=['self: Any', 'node: Union[ast.ClassDef, ast.FunctionDef, ast.AsyncFunctionDef]'], return_type='List[str]', decorators=[], complexity=11, is_async=False), FunctionElement(name='python_parser.py:PythonParser(BaseParser):_get_decorator_name(self: Any, node: Union[ast.Name, ast.Attribute]) -> str', path=PosixPath('python_parser.py'), start_line=189, end_line=203, module=..., documentation=DocumentationElement(content='Get the full name of a decorator node.\\n\\nArgs:\\n    node: AST node representing the decorator name\\n    \\nReturns:\\n    Full decorator name as a string', path='189', line_number=189, type='docstring', context=None), parameters=['self: Any', 'node: Union[ast.Name, ast.Attribute]'], return_type='str', decorators=[], complexity=3, is_async=False), FunctionElement(name='python_parser.py:PythonParser(BaseParser):_parse_function(self: Any, path: Path, node: Union[ast.FunctionDef, ast.AsyncFunctionDef], context: ContextInfo, parent_name: str) -> FunctionElement', path=PosixPath('python_parser.py'), start_line=205, end_line=247, module=..., documentation=DocumentationElement(content='Parse a function or method definition.', path='205', line_number=205, type='docstring', context=None), parameters=['self: Any', 'path: Path', 'node: Union[ast.FunctionDef, ast.AsyncFunctionDef]', 'context: ContextInfo', 'parent_name: str'], return_type='FunctionElement', decorators=[], complexity=2, is_async=False), FunctionElement(name='python_parser.py:PythonParser(BaseParser):_parse_imports(self: Any, node: Union[ast.Import, ast.ImportFrom]) -> List[str]', path=PosixPath('python_parser.py'), start_line=249, end_line=259, module=..., documentation=DocumentationElement(content='Parse import statements.', path='249', line_number=249, type='docstring', context=None), parameters=['self: Any', 'node: Union[ast.Import, ast.ImportFrom]'], return_type='List[str]', decorators=[], complexity=5, is_async=False), FunctionElement(name='python_parser.py:PythonParser(BaseParser):_parse_docstring(self: Any, node: ast.AST) -> Optional[DocumentationElement]', path=PosixPath('python_parser.py'), start_line=261, end_line=271, module=..., documentation=DocumentationElement(content='Extract docstring from an AST node.', path='261', line_number=261, type='docstring', context=None), parameters=['self: Any', 'node: ast.AST'], return_type='Optional[DocumentationElement]', decorators=[], complexity=2, is_async=False), FunctionElement(name='python_parser.py:PythonParser(BaseParser):_calculate_complexity(self: Any, node: ast.AST) -> int', path=PosixPath('python_parser.py'), start_line=273, end_line=289, module=..., documentation=DocumentationElement(content='Calculate cyclomatic complexity of a function.\\nVery basic implementation - counts branches.', path='273', line_number=273, type='docstring', context=None), parameters=['self: Any', 'node: ast.AST'], return_type='int', decorators=[], complexity=4, is_async=False), FunctionElement(name='python_parser.py:PythonParser(BaseParser):_get_annotation_type(self: Any, node: Optional[ast.AST]) -> str', path=PosixPath('python_parser.py'), start_line=291, end_line=295, module=..., documentation=DocumentationElement(content='Convert annotation AST node to string representation.', path='291', line_number=291, type='docstring', context=None), parameters=['self: Any', 'node: Optional[ast.AST]'], return_type='str', decorators=[], complexity=2, is_async=False), FunctionElement(name='python_parser.py:PythonParser(BaseParser):_get_attribute_type(self: Any, node: ast.AST) -> str', path=PosixPath('python_parser.py'), start_line=297, end_line=307, module=..., documentation=DocumentationElement(content='Get the type of a class attribute from its value.', path='297', line_number=297, type='docstring', context=None), parameters=['self: Any', 'node: ast.AST'], return_type='str', decorators=[], complexity=5, is_async=False), FunctionElement(name='python_parser.py:PythonParser(BaseParser):_get_name(self: Any, node: ast.AST) -> str', path=PosixPath('python_parser.py'), start_line=309, end_line=315, module=..., documentation=DocumentationElement(content='Convert AST name node to string.', path='309', line_number=309, type='docstring', context=None), parameters=['self: Any', 'node: ast.AST'], return_type='str', decorators=[], complexity=3, is_async=False)], base_classes=['BaseParser'], attributes={'language': 'str'}, decorators=[], inner_classes=[])], functions=[], imports=['ast', 'from pathlib import Path', 'from typing import List', 'from typing import Optional', 'from typing import Dict', 'from typing import Any', 'from typing import Union', 'from dataclasses import dataclass', 'from base_parser import BaseParser', 'from models.data_models import ModuleElement', 'from models.data_models import ClassElement', 'from models.data_models import FunctionElement', 'from models.data_models import DocumentationElement'], documentation=DocumentationElement(content='Python-specific code parser implementation.', path='0', line_number=0, type='docstring', context=None), size_bytes=0, lines_of_code=0, error=None, body='\"\"\"\\nPython-specific code parser implementation.\\n\"\"\"\\n\\nimport ast\\nfrom pathlib import Path\\nfrom typing import List, Optional, Dict, Any, Union\\nfrom dataclasses import dataclass\\n\\nfrom .base_parser import BaseParser\\nfrom ..models.data_models import (\\n    ModuleElement, ClassElement, FunctionElement, DocumentationElement\\n)\\n\\n@dataclass\\nclass ContextInfo:\\n    \"\"\"Helper class to track parsing context.\"\"\"\\n    module: Optional[ModuleElement] = None\\n    parent_class: Optional[ClassElement] = None\\n    parent_function: Optional[FunctionElement] = None\\n    in_async_def: bool = False\\n\\nclass PythonParser(BaseParser):\\n    \"\"\"Parser for Python source code files.\"\"\"\\n    \\n    language = \\'Python\\'\\n\\n    def __init__(self):\\n        super().__init__()\\n\\n    def can_parse(self, path: Path) -> bool:\\n        \"\"\"Check if file is a Python file.\"\"\"\\n        return path.suffix.lower() in self.get_supported_extensions()\\n\\n    def get_supported_extensions(self) -> List[str]:\\n        \"\"\"Get supported Python file extensions.\"\"\"\\n        return [\\'.py\\', \\'.pyw\\']\\n\\n    def parse_file(self, path: Path) -> ModuleElement:\\n        \"\"\"\\n        Parse a Python source file.\\n        \\n        Args:\\n            path: Path to the Python file\\n            \\n        Returns:\\n            ModuleElement containing the parsed information\\n        \"\"\"\\n        try:\\n            with open(path, \\'r\\', encoding=\\'utf-8\\') as f:\\n                content = f.read()\\n                \\n            # Parse the AST\\n            tree = ast.parse(content)\\n            \\n            # Create module element first\\n            module = ModuleElement(\\n                name=str(path),  # Full path as module name\\n                path=path,\\n                language=self.language,\\n                classes=[],\\n                functions=[],\\n                imports=[],\\n                documentation=None,\\n                body=content\\n            )\\n            \\n            # Create initial context\\n            context = ContextInfo(module=module)\\n            \\n            # Extract module docstring\\n            module.documentation = self._parse_docstring(tree)\\n            \\n            # Parse all module elements\\n            for node in ast.iter_child_nodes(tree):\\n                if isinstance(node, ast.ClassDef):\\n                    module.classes.append(self._parse_class(path, node, context, str(context.module.name)))\\n                elif isinstance(node, (ast.FunctionDef, ast.AsyncFunctionDef)):\\n                    module.functions.append(self._parse_function(path, node, context, str(context.module.name)))\\n                elif isinstance(node, (ast.Import, ast.ImportFrom)):\\n                    module.imports.extend(self._parse_imports(node))\\n            return module\\n            \\n        except Exception as e:\\n            self.logger.error(f\"Error parsing {path}: {e}\")\\n            return self._create_error_module(path, e)\\n\\n    def _parse_class(self, path: Path, node: ast.ClassDef, context: ContextInfo, parent_name: str) -> ClassElement:\\n        \"\"\"Parse a class definition.\"\"\"\\n        # Build qualified name based on context\\n        qualified_name = [parent_name, f\"{node.name}({\\', \\'.join(self._get_name(base) for base in node.bases)})\"]\\n        \\n        # Create class element first\\n        class_element = ClassElement(\\n            name=\":\".join(qualified_name),  # <parent_name>:<parent_name>....<class_name>\\n            path=path,\\n            documentation=None,\\n            methods=[],\\n            base_classes=[],\\n            attributes={},\\n            decorators=[],\\n            start_line=node.lineno,\\n            end_line=node.end_lineno,\\n            module=context.module\\n        )\\n        \\n        # Create new context for class contents\\n        class_context = ContextInfo(\\n            module=context.module,\\n            parent_class=class_element,\\n            parent_function=context.parent_function,\\n            in_async_def=context.in_async_def\\n        )\\n        \\n        # Get docstring and decorators\\n        class_element.documentation = self._parse_docstring(node)\\n        class_element.decorators = self._parse_decorators(node)\\n        \\n        # Parse methods and nested classes\\n        for body_node in node.body:\\n            if isinstance(body_node, (ast.FunctionDef, ast.AsyncFunctionDef)):\\n                class_element.methods.append(self._parse_function(path, body_node, class_context, class_element.name))\\n            elif isinstance(body_node, ast.ClassDef):\\n                class_element.inner_classes.append(self._parse_class(path, body_node, class_context, class_element.name))\\n            elif isinstance(body_node, ast.Assign):\\n                # Class attributes\\n                for target in body_node.targets:\\n                    if isinstance(target, ast.Name):\\n                        class_element.attributes[target.id] = self._get_attribute_type(body_node.value)\\n                        \\n        class_element.base_classes = [self._get_name(base) for base in node.bases]\\n        \\n        return class_element\\n\\n    def _parse_decorators(self, node: Union[ast.ClassDef, ast.FunctionDef, ast.AsyncFunctionDef]) -> List[str]:\\n        \"\"\"\\n        Parse decorators from a class or function node.\\n        \\n        Args:\\n            node: AST node for class or function\\n            \\n        Returns:\\n            List of decorator strings\\n        \"\"\"\\n        decorators = []\\n        for decorator in node.decorator_list:\\n            try:\\n                if isinstance(decorator, ast.Call):\\n                    # Handle decorators with arguments: @decorator(arg1, arg2)\\n                    decorator_name = self._get_decorator_name(decorator.func)\\n                    args = []\\n                    \\n                    # Process positional arguments\\n                    for arg in decorator.args:\\n                        if isinstance(arg, ast.Constant):\\n                            args.append(repr(arg.value))\\n                        elif isinstance(arg, ast.Name):\\n                            args.append(arg.id)\\n                        else:\\n                            args.append(ast.unparse(arg))\\n                    \\n                    # Process keyword arguments\\n                    for keyword in decorator.keywords:\\n                        if isinstance(keyword.value, ast.Constant):\\n                            args.append(f\"{keyword.arg}={repr(keyword.value.value)}\")\\n                        else:\\n                            args.append(f\"{keyword.arg}={ast.unparse(keyword.value)}\")\\n                    \\n                    decorators.append(f\"@{decorator_name}({\\', \\'.join(args)})\")\\n                \\n                elif isinstance(decorator, ast.Attribute):\\n                    # Handle decorators with attributes: @module.decorator\\n                    decorators.append(f\"@{self._get_decorator_name(decorator)}\")\\n                \\n                elif isinstance(decorator, ast.Name):\\n                    # Handle simple decorators: @decorator\\n                    decorators.append(f\"@{decorator.id}\")\\n                \\n                else:\\n                    # Handle any other decorator forms\\n                    decorators.append(f\"@{ast.unparse(decorator)}\")\\n                    \\n            except Exception as e:\\n                self.logger.warning(f\"Error parsing decorator: {e}\")\\n                decorators.append(f\"@<error_parsing_decorator>\")\\n        \\n        return decorators\\n\\n    def _get_decorator_name(self, node: Union[ast.Name, ast.Attribute]) -> str:\\n        \"\"\"\\n        Get the full name of a decorator node.\\n        \\n        Args:\\n            node: AST node representing the decorator name\\n            \\n        Returns:\\n            Full decorator name as a string\\n        \"\"\"\\n        if isinstance(node, ast.Name):\\n            return node.id\\n        elif isinstance(node, ast.Attribute):\\n            return f\"{self._get_decorator_name(node.value)}.{node.attr}\"\\n        return ast.unparse(node)\\n\\n    def _parse_function(self, path: Path, node: Union[ast.FunctionDef, ast.AsyncFunctionDef], context: ContextInfo, parent_name: str) -> FunctionElement:\\n        \"\"\"Parse a function or method definition.\"\"\"\\n        # Get parameters and return type\\n        params = []\\n        for arg in node.args.args:\\n            param_type = self._get_annotation_type(arg.annotation)\\n            params.append(f\"{arg.arg}: {param_type}\")\\n        return_type = self._get_annotation_type(node.returns)\\n        \\n        # Build qualified name based on context\\n        qualified_name = [parent_name, f\"{node.name}({\\', \\'.join(params)}) -> {return_type}\"]\\n        \\n        # Create function element\\n        function_element = FunctionElement(\\n            name=\":\".join(qualified_name),  # <parent_name>:<parent_name>....<function_name>\\n            path=path,\\n            module=context.module,\\n            documentation=None,\\n            parameters=params,\\n            return_type=return_type,\\n            decorators=[],\\n            complexity=None,\\n            start_line=node.lineno,\\n            end_line=node.end_lineno,\\n            is_async=isinstance(node, ast.AsyncFunctionDef)\\n        )\\n        \\n        # Create new context for function contents\\n        function_context = ContextInfo(\\n            module=context.module,\\n            parent_class=context.parent_class,\\n            parent_function=function_element,\\n            in_async_def=isinstance(node, ast.AsyncFunctionDef)\\n        )\\n        \\n        # Get docstring and decorators\\n        function_element.documentation = self._parse_docstring(node)\\n        function_element.decorators = self._parse_decorators(node)\\n        \\n        # Calculate complexity\\n        function_element.complexity = self._calculate_complexity(node)\\n        \\n        return function_element\\n\\n    def _parse_imports(self, node: Union[ast.Import, ast.ImportFrom]) -> List[str]:\\n        \"\"\"Parse import statements.\"\"\"\\n        imports = []\\n        if isinstance(node, ast.Import):\\n            for name in node.names:\\n                imports.append(name.name)\\n        else:  # ImportFrom\\n            module = node.module or \\'\\'\\n            for name in node.names:\\n                imports.append(f\"from {module} import {name.name}\")\\n        return imports\\n\\n    def _parse_docstring(self, node: ast.AST) -> Optional[DocumentationElement]:\\n        \"\"\"Extract docstring from an AST node.\"\"\"\\n        docstring = ast.get_docstring(node)\\n        if docstring:\\n            return DocumentationElement(\\n                content=docstring,\\n                path=str(getattr(node, \\'lineno\\', 0)),\\n                line_number=getattr(node, \\'lineno\\', 0),\\n                type=\\'docstring\\'\\n            )\\n        return None\\n\\n    def _calculate_complexity(self, node: ast.AST) -> int:\\n        \"\"\"\\n        Calculate cyclomatic complexity of a function.\\n        Very basic implementation - counts branches.\\n        \"\"\"\\n        complexity = 1  # Base complexity\\n        \\n        for child in ast.walk(node):\\n            # Count branches\\n            if isinstance(child, (ast.If, ast.While, ast.For, ast.AsyncFor,\\n                                ast.ExceptHandler, ast.With, ast.AsyncWith)):\\n                complexity += 1\\n            # Count boolean operations\\n            elif isinstance(child, ast.BoolOp):\\n                complexity += len(child.values) - 1\\n                \\n        return complexity\\n\\n    def _get_annotation_type(self, node: Optional[ast.AST]) -> str:\\n        \"\"\"Convert annotation AST node to string representation.\"\"\"\\n        if node is None:\\n            return \\'Any\\'\\n        return ast.unparse(node)\\n\\n    def _get_attribute_type(self, node: ast.AST) -> str:\\n        \"\"\"Get the type of a class attribute from its value.\"\"\"\\n        if isinstance(node, ast.Constant):\\n            return type(node.value).__name__\\n        elif isinstance(node, ast.List):\\n            return \\'List\\'\\n        elif isinstance(node, ast.Dict):\\n            return \\'Dict\\'\\n        elif isinstance(node, ast.Set):\\n            return \\'Set\\'\\n        return \\'Any\\'\\n\\n    def _get_name(self, node: ast.AST) -> str:\\n        \"\"\"Convert AST name node to string.\"\"\"\\n        if isinstance(node, ast.Name):\\n            return node.id\\n        elif isinstance(node, ast.Attribute):\\n            return f\"{self._get_name(node.value)}.{node.attr}\"\\n        return ast.unparse(node)')\n"
     ]
    }
   ],
   "source": [
    "import sys\n",
    "from pathlib import Path\n",
    "# Add the project root to Python path\n",
    "sys.path.append(str(Path.cwd().parent.parent))\n",
    "\n",
    "# Now your original imports should work\n",
    "from parser_engine.language_parsers.python_parser import PythonParser\n",
    "from parser_engine.models.data_models import *\n",
    "module = PythonParser().parse_file(Path('python_parser.py'))\n",
    "print(module)"
   ]
  },
  {
   "cell_type": "code",
   "execution_count": 3,
   "metadata": {},
   "outputs": [],
   "source": [
    "# print module name\n",
    "def print_function(func: FunctionElement):\n",
    "    print(func.name)\n",
    "\n",
    "def print_class(cls: ClassElement):\n",
    "    print(cls.name)\n",
    "    for func in cls.methods:\n",
    "        print_function(func)\n",
    "\n",
    "def print_module(module: ModuleElement):\n",
    "    for cls in module.classes:\n",
    "        print_class(cls)"
   ]
  },
  {
   "cell_type": "code",
   "execution_count": 6,
   "metadata": {},
   "outputs": [],
   "source": [
    "def traverse_function(func: FunctionElement, indent=0):\n",
    "    # print function content\n",
    "    print(' ' * indent + func.name)\n",
    "    for param in func.parameters:\n",
    "        print(' ' * indent + 'Parameter: ' + param)\n",
    "    #get the function body\n",
    "    # Use lineno and ModuleElement.body to get the body\n",
    "    module = func.module\n",
    "    body = module.body[func.start_line - 1:func.end_line]\n",
    "    print(' ' * indent + 'Body: ' + body)\n",
    "\n"
   ]
  },
  {
   "cell_type": "code",
   "execution_count": 7,
   "metadata": {},
   "outputs": [
    {
     "name": "stdout",
     "output_type": "stream",
     "text": [
      "python_parser.py:PythonParser(BaseParser):__init__(self: Any) -> Any\n",
      "Parameter: self: Any\n"
     ]
    },
    {
     "ename": "AttributeError",
     "evalue": "'FunctionElement' object has no attribute 'start_lineno'",
     "output_type": "error",
     "traceback": [
      "\u001b[0;31m---------------------------------------------------------------------------\u001b[0m",
      "\u001b[0;31mAttributeError\u001b[0m                            Traceback (most recent call last)",
      "Cell \u001b[0;32mIn[7], line 1\u001b[0m\n\u001b[0;32m----> 1\u001b[0m \u001b[43mtraverse_function\u001b[49m\u001b[43m(\u001b[49m\u001b[43mmodule\u001b[49m\u001b[38;5;241;43m.\u001b[39;49m\u001b[43mclasses\u001b[49m\u001b[43m[\u001b[49m\u001b[38;5;241;43m1\u001b[39;49m\u001b[43m]\u001b[49m\u001b[38;5;241;43m.\u001b[39;49m\u001b[43mmethods\u001b[49m\u001b[43m[\u001b[49m\u001b[38;5;241;43m0\u001b[39;49m\u001b[43m]\u001b[49m\u001b[43m)\u001b[49m\n",
      "Cell \u001b[0;32mIn[6], line 9\u001b[0m, in \u001b[0;36mtraverse_function\u001b[0;34m(func, indent)\u001b[0m\n\u001b[1;32m      6\u001b[0m \u001b[38;5;66;03m#get the function body\u001b[39;00m\n\u001b[1;32m      7\u001b[0m \u001b[38;5;66;03m# Use lineno and ModuleElement.body to get the body\u001b[39;00m\n\u001b[1;32m      8\u001b[0m module \u001b[38;5;241m=\u001b[39m func\u001b[38;5;241m.\u001b[39mmodule\n\u001b[0;32m----> 9\u001b[0m body \u001b[38;5;241m=\u001b[39m module\u001b[38;5;241m.\u001b[39mbody[\u001b[43mfunc\u001b[49m\u001b[38;5;241;43m.\u001b[39;49m\u001b[43mstart_lineno\u001b[49m \u001b[38;5;241m-\u001b[39m \u001b[38;5;241m1\u001b[39m:func\u001b[38;5;241m.\u001b[39mend_lineno]\n\u001b[1;32m     10\u001b[0m \u001b[38;5;28mprint\u001b[39m(\u001b[38;5;124m'\u001b[39m\u001b[38;5;124m \u001b[39m\u001b[38;5;124m'\u001b[39m \u001b[38;5;241m*\u001b[39m indent \u001b[38;5;241m+\u001b[39m \u001b[38;5;124m'\u001b[39m\u001b[38;5;124mBody: \u001b[39m\u001b[38;5;124m'\u001b[39m \u001b[38;5;241m+\u001b[39m body)\n",
      "\u001b[0;31mAttributeError\u001b[0m: 'FunctionElement' object has no attribute 'start_lineno'"
     ]
    }
   ],
   "source": [
    "traverse_function(module.classes[1].methods[0])"
   ]
  },
  {
   "cell_type": "code",
   "execution_count": 18,
   "metadata": {},
   "outputs": [
    {
     "name": "stdout",
     "output_type": "stream",
     "text": [
      "python_parser.py:ContextInfo\n",
      "python_parser.py:PythonParser\n",
      "python_parser.py:__init__(self: Any) -> Any : 27\n",
      "python_parser.py:can_parse(self: Any, path: Path) -> bool : 31\n",
      "python_parser.py:get_supported_extensions(self: Any) -> List[str] : 35\n",
      "python_parser.py:parse_file(self: Any, path: Path) -> ModuleElement : 39\n",
      "python_parser.py:_parse_class(self: Any, path: Path, node: ast.ClassDef) -> ClassElement : 86\n",
      "python_parser.py:_parse_decorators(self: Any, node: Union[ast.ClassDef, ast.FunctionDef, ast.AsyncFunctionDef]) -> List[str] : 126\n",
      "python_parser.py:_get_decorator_name(self: Any, node: Union[ast.Name, ast.Attribute]) -> str : 180\n",
      "python_parser.py:_parse_function(self: Any, path: Path, node: Union[ast.FunctionDef, ast.AsyncFunctionDef]) -> FunctionElement : 196\n",
      "python_parser.py:_parse_imports(self: Any, node: Union[ast.Import, ast.ImportFrom]) -> List[str] : 235\n",
      "python_parser.py:_parse_docstring(self: Any, node: ast.AST) -> Optional[DocumentationElement] : 247\n",
      "python_parser.py:_calculate_complexity(self: Any, node: ast.AST) -> int : 259\n",
      "python_parser.py:_get_annotation_type(self: Any, node: Optional[ast.AST]) -> str : 277\n",
      "python_parser.py:_get_attribute_type(self: Any, node: ast.AST) -> str : 283\n",
      "python_parser.py:_get_name(self: Any, node: ast.AST) -> str : 295\n"
     ]
    }
   ],
   "source": [
    "print_module(module)"
   ]
  },
  {
   "cell_type": "code",
   "execution_count": null,
   "metadata": {},
   "outputs": [],
   "source": []
  }
 ],
 "metadata": {
  "kernelspec": {
   "display_name": "Python 3",
   "language": "python",
   "name": "python3"
  },
  "language_info": {
   "codemirror_mode": {
    "name": "ipython",
    "version": 3
   },
   "file_extension": ".py",
   "mimetype": "text/x-python",
   "name": "python",
   "nbconvert_exporter": "python",
   "pygments_lexer": "ipython3",
   "version": "3.9.6"
  }
 },
 "nbformat": 4,
 "nbformat_minor": 2
}
