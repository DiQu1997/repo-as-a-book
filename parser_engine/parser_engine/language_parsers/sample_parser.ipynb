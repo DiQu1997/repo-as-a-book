{
 "cells": [
  {
   "cell_type": "code",
   "execution_count": 1,
   "metadata": {},
   "outputs": [],
   "source": [
    "import sys\n",
    "from pathlib import Path\n",
    "# Add the project root to Python path\n",
    "sys.path.append(str(Path.cwd().parent.parent))\n",
    "\n",
    "# Now your original imports should work\n",
    "from parser_engine.language_parsers.python_parser import PythonParser\n",
    "from parser_engine.models.data_models import *\n",
    "from parser_engine.core.repo_analyzer import RepoIndexer\n",
    "from parser_engine.language_parsers.python_parser import PythonFunctionCallVisitor\n",
    "\n",
    "\n",
    "repo_path = Path('/Users/qudi/Desktop/workspace/third-party/fairscale/fairscale/')"
   ]
  },
  {
   "cell_type": "code",
   "execution_count": null,
   "metadata": {},
   "outputs": [],
   "source": [
    "parser = PythonParser()\n",
    "\n",
    "# Parse all Python files in the repo\n",
    "modules = []\n",
    "for file_path in repo_path.rglob('*.py'):\n",
    "    if parser.can_parse(file_path):\n",
    "        try:\n",
    "            module = parser.parse_file(file_path, repo_root=repo_path)\n",
    "            modules.append(module)\n",
    "        except Exception as e:\n",
    "            print(f\"Error parsing {file_path}: {e}\")\n",
    "\n",
    "# Create and run indexer\n",
    "indexer = RepoIndexer(modules)\n",
    "indexer.index_repository()"
   ]
  },
  {
   "cell_type": "code",
   "execution_count": null,
   "metadata": {},
   "outputs": [],
   "source": []
  },
  {
   "cell_type": "code",
   "execution_count": null,
   "metadata": {},
   "outputs": [],
   "source": [
    "for module in modules:\n",
    "    print(f\"module: {module.name}\")\n",
    "    print(f\"    imports_mapping: {module.imports_mapping}\")\n",
    "    print(f\"    imports: {module.imports}\")"
   ]
  },
  {
   "cell_type": "code",
   "execution_count": null,
   "metadata": {},
   "outputs": [],
   "source": [
    "\n",
    "\n",
    "# Print some basic stats\n",
    "print(f\"Found {len(modules)} Python modules\")\n",
    "print(f\"Total classes: {sum(len(m.classes) for m in modules)}\")\n",
    "print(f\"Total functions: {sum(len(m.functions) for m in modules)}\")\n",
    "\n",
    "# Print details of each module\n",
    "for module in modules:\n",
    "    print(f\"\\nModule: {module.name}\")\n",
    "    \n",
    "    print(\"Classes:\")\n",
    "    for class_elem in module.classes:\n",
    "        print(f\"  {class_elem.name}\")\n",
    "        print(f\"    Methods: {len(class_elem.methods)}\")\n",
    "        print(f\"    Base classes: {class_elem.base_classes}\")\n",
    "        \n",
    "    print(\"Functions:\")\n",
    "    for func in module.functions:\n",
    "        print(f\"  {func.name}\")\n",
    "        if func.function_calls:\n",
    "            print(\"    Calls:\")\n",
    "            for call in func.function_calls:\n",
    "                print(f\"      {call.name} -> {call.resolved_name}\")\n"
   ]
  },
  {
   "cell_type": "code",
   "execution_count": 9,
   "metadata": {},
   "outputs": [],
   "source": [
    "from collections import defaultdict\n",
    "\n",
    "def build_call_graph(modules: List[ModuleElement], symbol_table: Dict[str, FunctionElement]) -> Dict[str, List[str]]:\n",
    "    call_graph = defaultdict(list)\n",
    "    for module in modules:\n",
    "        # module.functions\n",
    "        for func in module.functions:\n",
    "            caller = func.qualified_name\n",
    "            if not caller or caller not in symbol_table:\n",
    "                continue\n",
    "            for call in func.function_calls:\n",
    "                if call.resolved_name and call.resolved_name in symbol_table:  # skip if None or not in symbol table\n",
    "                    call_graph[caller].append(call.resolved_name)\n",
    "\n",
    "        # module.classes -> .methods\n",
    "        for cls in module.classes:\n",
    "            for method in cls.methods:\n",
    "                caller = method.qualified_name\n",
    "                if not caller or caller not in symbol_table:\n",
    "                    continue\n",
    "                for call in method.function_calls:\n",
    "                    if call.resolved_name and call.resolved_name in symbol_table:\n",
    "                        call_graph[caller].append(call.resolved_name)\n",
    "    return dict(call_graph)"
   ]
  },
  {
   "cell_type": "code",
   "execution_count": null,
   "metadata": {},
   "outputs": [],
   "source": [
    "call_graph = build_call_graph(modules, indexer.symbol_table)\n",
    "# print call_graph\n",
    "for caller, callees in call_graph.items():\n",
    "    print(f\"{caller}: {callees}\")\n"
   ]
  },
  {
   "cell_type": "code",
   "execution_count": 28,
   "metadata": {},
   "outputs": [],
   "source": [
    "def get_function_source_code(function_name: str, symbol_table: Dict[str, FunctionElement]) -> str:\n",
    "    function_module = symbol_table[function_name]\n",
    "    function_parent_module = function_module.module\n",
    "    function_source_code = function_parent_module.body.splitlines()[function_module.start_line-1:function_module.end_line]\n",
    "    return '\\n'.join(function_source_code)\n"
   ]
  },
  {
   "cell_type": "code",
   "execution_count": null,
   "metadata": {},
   "outputs": [],
   "source": [
    "call_graph[\"data_parallel.fsdp_optim_utils.flatten_optim_state_dict\"]"
   ]
  },
  {
   "cell_type": "code",
   "execution_count": null,
   "metadata": {},
   "outputs": [],
   "source": [
    "print(get_function_source_code(\"data_parallel.fsdp_optim_utils.flatten_optim_state_dict\", indexer.symbol_table))\n"
   ]
  },
  {
   "cell_type": "code",
   "execution_count": 77,
   "metadata": {},
   "outputs": [],
   "source": [
    "from collections import defaultdict\n",
    "\n",
    "def group_calls_by_line(function: FunctionElement, symbol_table: Dict[str, FunctionElement]) -> Dict[int, List[FunctionCallElement]]:\n",
    "    \"\"\"\n",
    "    Returns a dict: line_number -> list of calls on that line.\n",
    "    \"\"\"\n",
    "    calls_by_line = defaultdict(list)\n",
    "    for call in function.function_calls:\n",
    "        if call.resolved_name in symbol_table:\n",
    "            calls_by_line[call.line_number-1].append(call)\n",
    "    return dict(calls_by_line)\n",
    "\n",
    "def display_function_source_and_calls(\n",
    "    func_fqn: str,\n",
    "    symbol_table: Dict[str, FunctionElement],\n",
    "    call_graph: Dict[str, List[str]],\n",
    "    visited_stack: Optional[List[str]] = None,\n",
    "    indent: int = 0\n",
    "):\n",
    "    if visited_stack is None:\n",
    "        visited_stack = []\n",
    "\n",
    "    # Check cycle\n",
    "    if func_fqn in visited_stack:\n",
    "        cycle_start_index = visited_stack.index(func_fqn)\n",
    "        cycle_path = visited_stack[cycle_start_index:]\n",
    "        print(\" \" * indent + f\"-> (cycle) {func_fqn} ... {' -> '.join(cycle_path)} -> {func_fqn}\")\n",
    "        return\n",
    "\n",
    "    visited_stack.append(func_fqn)\n",
    "    calls_by_line = group_calls_by_line(symbol_table[func_fqn], symbol_table)\n",
    "\n",
    "    # Get the function element, print name\n",
    "    func_elem = symbol_table.get(func_fqn)\n",
    "    if not func_elem:\n",
    "        print(\" \" * indent + f\"* {func_fqn} (unresolved or built-in)\")\n",
    "        visited_stack.pop()\n",
    "        return\n",
    "    # Print heading\n",
    "    print(\" \" * indent + f\"{func_elem.name}()\")\n",
    "\n",
    "    # Print source lines (with indentation, etc.)\n",
    "    function_source_code = get_function_source_code(func_fqn, symbol_table)\n",
    "    if function_source_code:\n",
    "        source_lines = function_source_code.splitlines()\n",
    "        for line_number, line in enumerate(source_lines):\n",
    "            print(\" \" * (indent + 4) + f\"{line_number}: {line}\")\n",
    "            if line_number in calls_by_line:\n",
    "                for call in calls_by_line[line_number]:\n",
    "                    previous_output_line_length = (indent + 4) + len(str(line_number)) + len(str(line)) + 1\n",
    "                    print(\" \" * previous_output_line_length + f\"{call.name} -> {call.resolved_name}\")\n",
    "                    print(display_function_source_and_calls(call.resolved_name, symbol_table, call_graph, visited_stack, previous_output_line_length + 4))\n",
    "            \n",
    "    else:\n",
    "        print(\" \" * (indent + 4) + \"<No source available>\")\n",
    "\n",
    "    # pop from stack\n",
    "    visited_stack.pop()"
   ]
  },
  {
   "cell_type": "code",
   "execution_count": null,
   "metadata": {},
   "outputs": [],
   "source": [
    "display_function_source_and_calls(\"data_parallel.fsdp_optim_utils.flatten_optim_state_dict\", indexer.symbol_table, call_graph)"
   ]
  },
  {
   "cell_type": "code",
   "execution_count": null,
   "metadata": {},
   "outputs": [],
   "source": [
    "indexer.symbol_table"
   ]
  },
  {
   "cell_type": "code",
   "execution_count": null,
   "metadata": {},
   "outputs": [],
   "source": [
    "import ast\n",
    "\n",
    "# Sample Python code to analyze\n",
    "sample_code = \"\"\"\n",
    "import os\n",
    "import sys as system\n",
    "from pathlib import Path\n",
    "from datetime import datetime as dt, timedelta\n",
    "from json import dumps as to_json\n",
    "\n",
    "def process_file(filepath):\n",
    "    if system.version_info >= (3, 8):\n",
    "        current_time = dt.now()\n",
    "        path = Path(filepath)\n",
    "        if path.exists():\n",
    "            stats = os.stat(filepath)\n",
    "            result = {\n",
    "                'filename': path.name,\n",
    "                'modified': current_time - timedelta(days=1),\n",
    "                'size': stats.st_size\n",
    "            }\n",
    "            return to_json(result)\n",
    "    return None\n",
    "\"\"\"\n",
    "\n",
    "# Create a simple test harness\n",
    "def test_import_parsing():\n",
    "    # Parse the code into an AST\n",
    "    tree = ast.parse(sample_code)\n",
    "    \n",
    "    # Create an instance of our parser\n",
    "    parser = PythonParser()\n",
    "    \n",
    "    # Track all imports\n",
    "    imports_mapping = {}\n",
    "    \n",
    "    # Find and parse all import nodes\n",
    "    for node in ast.walk(tree):\n",
    "        if isinstance(node, (ast.Import, ast.ImportFrom)):\n",
    "            imports_mapping.update(parser._parse_imports(node))\n",
    "    \n",
    "    # Print the resulting mapping\n",
    "    print(\"Import mappings:\")\n",
    "    for local_name, full_path in imports_mapping.items():\n",
    "        print(f\"{local_name:12} -> {full_path}\")\n",
    "\n",
    "test_import_parsing()"
   ]
  },
  {
   "cell_type": "code",
   "execution_count": null,
   "metadata": {},
   "outputs": [],
   "source": []
  }
 ],
 "metadata": {
  "kernelspec": {
   "display_name": "Python 3",
   "language": "python",
   "name": "python3"
  },
  "language_info": {
   "codemirror_mode": {
    "name": "ipython",
    "version": 3
   },
   "file_extension": ".py",
   "mimetype": "text/x-python",
   "name": "python",
   "nbconvert_exporter": "python",
   "pygments_lexer": "ipython3",
   "version": "3.9.6"
  }
 },
 "nbformat": 4,
 "nbformat_minor": 2
}
